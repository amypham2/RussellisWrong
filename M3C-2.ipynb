{
 "cells": [
  {
   "cell_type": "markdown",
   "metadata": {},
   "source": [
    "Above or Under the Influence?—Like nicotine, the abuse of most substances is correlated with numerous internal\n",
    "and external factors that affect the likelihood of an individual becoming addicted. Create a model that simulates the\n",
    "likelihood that a given individual will use a given substance. Take into account social influence and characteristic traits\n",
    "(e.g., social circles, genetics, health issues, income level, and/or any other relevant factors) as well as characteristics\n",
    "of the drug itself. Demonstrate how your model works by predicting how many students among a class of 300 high\n",
    "school seniors with varying characteristics will use the following substances: nicotine, marijuana, alcohol, and unprescribed opioids."
   ]
  },
  {
   "cell_type": "code",
   "execution_count": null,
   "metadata": {
    "collapsed": true
   },
   "outputs": [],
   "source": []
  }
 ],
 "metadata": {
  "kernelspec": {
   "display_name": "Python 3",
   "language": "python",
   "name": "python3"
  },
  "language_info": {
   "codemirror_mode": {
    "name": "ipython",
    "version": 3
   },
   "file_extension": ".py",
   "mimetype": "text/x-python",
   "name": "python",
   "nbconvert_exporter": "python",
   "pygments_lexer": "ipython3",
   "version": "3.6.4"
  }
 },
 "nbformat": 4,
 "nbformat_minor": 2
}
